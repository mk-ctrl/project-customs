{
  "cells": [
    {
      "cell_type": "markdown",
      "metadata": {
        "id": "view-in-github",
        "colab_type": "text"
      },
      "source": [
        "<a href=\"https://colab.research.google.com/github/mk-ctrl/project-customs/blob/main/ML.ipynb\" target=\"_parent\"><img src=\"https://colab.research.google.com/assets/colab-badge.svg\" alt=\"Open In Colab\"/></a>"
      ]
    },
    {
      "cell_type": "code",
      "source": [
        "import pandas as pd\n",
        "import numpy as np\n",
        "import warnings\n",
        "from sklearn.model_selection import cross_val_score, GridSearchCV, train_test_split\n",
        "from sklearn.ensemble import RandomForestClassifier\n",
        "from sklearn.preprocessing import LabelEncoder, StandardScaler\n",
        "from sklearn.metrics import accuracy_score, classification_report\n",
        "from sklearn.pipeline import Pipeline\n",
        "from sympy import symbols, And, Or"
      ],
      "metadata": {
        "id": "P6mf-nDQQQSd"
      },
      "execution_count": null,
      "outputs": []
    },
    {
      "cell_type": "markdown",
      "source": [
        "# **Sample Dataset**"
      ],
      "metadata": {
        "id": "fprSP0hyYfwe"
      }
    },
    {
      "cell_type": "code",
      "source": [
        "data = {\n",
        "    'product_type': ['electronics'] * 10 + ['clothing'] * 10 + ['furniture'] * 10,\n",
        "    'origin_country': ['China', 'USA', 'China', 'Germany', 'China', 'USA', 'India', 'Vietnam', 'Japan', 'Korea'] * 3,\n",
        "    'destination_country': ['USA', 'China', 'Germany', 'USA', 'Germany', 'USA', 'USA', 'China', 'Japan', 'Korea'] * 3,\n",
        "    'value': [500, 700, 200, 300, 800, 450, 150, 600, 350, 900] * 3,\n",
        "    'risk_level': [1, 2, 1, 0, 2, 1, 0, 2, 1, 2] * 3\n",
        "}\n",
        "\n",
        "df = pd.DataFrame(data)\n",
        "print(f'Dataset: {df}')\n",
        "\n"
      ],
      "metadata": {
        "collapsed": true,
        "colab": {
          "base_uri": "https://localhost:8080/"
        },
        "id": "-bubDb1rYnGv",
        "outputId": "9dc29bca-4a75-483b-cc21-0b6581ec04e4"
      },
      "execution_count": null,
      "outputs": [
        {
          "output_type": "stream",
          "name": "stdout",
          "text": [
            "Dataset:    product_type origin_country destination_country  value  risk_level\n",
            "0   electronics          China                 USA    500           1\n",
            "1   electronics            USA               China    700           2\n",
            "2   electronics          China             Germany    200           1\n",
            "3   electronics        Germany                 USA    300           0\n",
            "4   electronics          China             Germany    800           2\n",
            "5   electronics            USA                 USA    450           1\n",
            "6   electronics          India                 USA    150           0\n",
            "7   electronics        Vietnam               China    600           2\n",
            "8   electronics          Japan               Japan    350           1\n",
            "9   electronics          Korea               Korea    900           2\n",
            "10     clothing          China                 USA    500           1\n",
            "11     clothing            USA               China    700           2\n",
            "12     clothing          China             Germany    200           1\n",
            "13     clothing        Germany                 USA    300           0\n",
            "14     clothing          China             Germany    800           2\n",
            "15     clothing            USA                 USA    450           1\n",
            "16     clothing          India                 USA    150           0\n",
            "17     clothing        Vietnam               China    600           2\n",
            "18     clothing          Japan               Japan    350           1\n",
            "19     clothing          Korea               Korea    900           2\n",
            "20    furniture          China                 USA    500           1\n",
            "21    furniture            USA               China    700           2\n",
            "22    furniture          China             Germany    200           1\n",
            "23    furniture        Germany                 USA    300           0\n",
            "24    furniture          China             Germany    800           2\n",
            "25    furniture            USA                 USA    450           1\n",
            "26    furniture          India                 USA    150           0\n",
            "27    furniture        Vietnam               China    600           2\n",
            "28    furniture          Japan               Japan    350           1\n",
            "29    furniture          Korea               Korea    900           2\n"
          ]
        }
      ]
    },
    {
      "cell_type": "markdown",
      "source": [
        "# **Extra Features**\n",
        "🔹 Summary of Improvements\n",
        "\n",
        "✅ 1️⃣ Country-Based Risk Scoring\n",
        "\n",
        "\n",
        "*   Instead of treating only China as high-risk, we assigned risk scores (1-3) to\n",
        "all countries based on past fraud trends.\n",
        "\n",
        "\n",
        "\n",
        "✅ 2️⃣ Product-Specific Risk Levels\n",
        "\n",
        "\n",
        "\n",
        "*   Some products (like electronics) are more prone to fraud than others (like furniture), so we assigned risk scores to each product type.\n",
        "\n",
        "\n",
        "\n",
        "✅ 3️⃣ High-Value Shipment Flagging\n",
        "\n",
        "\n",
        "\n",
        "*   Instead of just categorizing values, we explicitly flagged the top 25% most expensive shipments as high-risk.\n",
        "\n",
        "\n",
        "✅ 4️⃣ High-Risk + High-Value Combination\n",
        "\n",
        "\n",
        "\n",
        "*   We identified shipments that are both high-risk (based on origin) and high-value, since they are more likely to be fraudulent.\n",
        "\n",
        "\n",
        "✅ 5️⃣ Large Shipment Detection\n",
        "\n",
        "\n",
        "\n",
        "*   Countries that suddenly ship an unusually high number of products might indicate fraud, so we added a feature to detect this pattern.\n",
        "\n",
        "\n",
        "✅ 6️⃣ Feature Selection Update\n",
        "\n",
        "\n",
        "\n",
        "*   We replaced simple labels with meaningful risk-based numerical features to help the model learn better.\n",
        "\n"
      ],
      "metadata": {
        "id": "dCB5f1Df5YW5"
      }
    },
    {
      "cell_type": "code",
      "source": [
        "# Define country risk levels (1 = Low Risk, 3 = High Risk)\n",
        "country_risk = {\n",
        "    'China': 3, 'Vietnam': 2, 'India': 2, 'USA': 1, 'Germany': 1, 'Japan': 1, 'Korea': 1\n",
        "}\n",
        "\n",
        "# Assign risk scores\n",
        "df['origin_risk_score'] = df['origin_country'].map(country_risk)\n",
        "df['destination_risk_score'] = df['destination_country'].map(country_risk)\n",
        "\n",
        "# Define product risk levels (1 = Low, 3 = High)\n",
        "product_risk = {'electronics': 3, 'clothing': 1, 'furniture': 1}\n",
        "\n",
        "# Apply product risk scores\n",
        "df['product_risk_score'] = df['product_type'].map(product_risk)\n",
        "\n",
        "value_threshold = df['value'].quantile(0.75)  # Get the top 25% value threshold\n",
        "\n",
        "df['is_high_value'] = (df['value'] > value_threshold).astype(int)\n",
        "\n",
        "df['high_risk_high_value'] = (df['origin_risk_score'] >= 2) & (df['is_high_value'] == 1)\n",
        "df['high_risk_high_value'] = df['high_risk_high_value'].astype(int)\n",
        "\n",
        "df['shipment_count'] = df.groupby('origin_country')['origin_country'].transform('count')\n",
        "df['is_large_shipment'] = (df['shipment_count'] > df['shipment_count'].median()).astype(int)\n"
      ],
      "metadata": {
        "id": "EcVTA8qk2W1g",
        "colab": {
          "base_uri": "https://localhost:8080/"
        },
        "collapsed": true,
        "outputId": "f6028bff-7d0f-4df0-fae8-9c2e20fa7fbb"
      },
      "execution_count": null,
      "outputs": [
        {
          "output_type": "stream",
          "name": "stdout",
          "text": [
            "0     500\n",
            "1     700\n",
            "2     200\n",
            "3     300\n",
            "4     800\n",
            "5     450\n",
            "6     150\n",
            "7     600\n",
            "8     350\n",
            "9     900\n",
            "10    500\n",
            "11    700\n",
            "12    200\n",
            "13    300\n",
            "14    800\n",
            "15    450\n",
            "16    150\n",
            "17    600\n",
            "18    350\n",
            "19    900\n",
            "20    500\n",
            "21    700\n",
            "22    200\n",
            "23    300\n",
            "24    800\n",
            "25    450\n",
            "26    150\n",
            "27    600\n",
            "28    350\n",
            "29    900\n",
            "Name: value, dtype: int64\n",
            "700.0\n",
            "0     0\n",
            "1     0\n",
            "2     0\n",
            "3     0\n",
            "4     1\n",
            "5     0\n",
            "6     0\n",
            "7     0\n",
            "8     0\n",
            "9     1\n",
            "10    0\n",
            "11    0\n",
            "12    0\n",
            "13    0\n",
            "14    1\n",
            "15    0\n",
            "16    0\n",
            "17    0\n",
            "18    0\n",
            "19    1\n",
            "20    0\n",
            "21    0\n",
            "22    0\n",
            "23    0\n",
            "24    1\n",
            "25    0\n",
            "26    0\n",
            "27    0\n",
            "28    0\n",
            "29    1\n",
            "Name: is_high_value, dtype: int64\n"
          ]
        }
      ]
    },
    {
      "cell_type": "markdown",
      "source": [
        "# **Feature Engineering**\n",
        "\n",
        "\n",
        "1.   Categorizing Features\n",
        "2.   For values & transport risk\n",
        "\n"
      ],
      "metadata": {
        "id": "RPy7-yYpY2B3"
      }
    },
    {
      "cell_type": "code",
      "source": [
        "def create_features(df):\n",
        "    df['value_category'] = pd.qcut(df['value'], q=5, labels=['VL', 'L', 'M', 'H', 'VH'])\n",
        "    df['high_risk_route'] = ((df['origin_country'] == 'China') &\n",
        "                            (df['destination_country'].isin(['USA', 'Germany']))).astype(int)\n",
        "    return df\n",
        "\n",
        "df = create_features(df)\n",
        "print(df)"
      ],
      "metadata": {
        "colab": {
          "base_uri": "https://localhost:8080/"
        },
        "id": "wiiw6nVnZ6uF",
        "outputId": "93291731-72e2-47df-d4df-e91a374a1c2e",
        "collapsed": true
      },
      "execution_count": null,
      "outputs": [
        {
          "output_type": "stream",
          "name": "stdout",
          "text": [
            "   product_type origin_country destination_country  value  risk_level  \\\n",
            "0   electronics          China                 USA    500           1   \n",
            "1   electronics            USA               China    700           2   \n",
            "2   electronics          China             Germany    200           1   \n",
            "3   electronics        Germany                 USA    300           0   \n",
            "4   electronics          China             Germany    800           2   \n",
            "5   electronics            USA                 USA    450           1   \n",
            "6   electronics          India                 USA    150           0   \n",
            "7   electronics        Vietnam               China    600           2   \n",
            "8   electronics          Japan               Japan    350           1   \n",
            "9   electronics          Korea               Korea    900           2   \n",
            "10     clothing          China                 USA    500           1   \n",
            "11     clothing            USA               China    700           2   \n",
            "12     clothing          China             Germany    200           1   \n",
            "13     clothing        Germany                 USA    300           0   \n",
            "14     clothing          China             Germany    800           2   \n",
            "15     clothing            USA                 USA    450           1   \n",
            "16     clothing          India                 USA    150           0   \n",
            "17     clothing        Vietnam               China    600           2   \n",
            "18     clothing          Japan               Japan    350           1   \n",
            "19     clothing          Korea               Korea    900           2   \n",
            "20    furniture          China                 USA    500           1   \n",
            "21    furniture            USA               China    700           2   \n",
            "22    furniture          China             Germany    200           1   \n",
            "23    furniture        Germany                 USA    300           0   \n",
            "24    furniture          China             Germany    800           2   \n",
            "25    furniture            USA                 USA    450           1   \n",
            "26    furniture          India                 USA    150           0   \n",
            "27    furniture        Vietnam               China    600           2   \n",
            "28    furniture          Japan               Japan    350           1   \n",
            "29    furniture          Korea               Korea    900           2   \n",
            "\n",
            "   value_category  high_risk  high_risk_route  \n",
            "0               M          0                1  \n",
            "1               H          1                0  \n",
            "2              VL          0                1  \n",
            "3               L          0                0  \n",
            "4              VH          1                1  \n",
            "5               M          0                0  \n",
            "6              VL          0                0  \n",
            "7               H          1                0  \n",
            "8               L          0                0  \n",
            "9              VH          1                0  \n",
            "10              M          0                1  \n",
            "11              H          1                0  \n",
            "12             VL          0                1  \n",
            "13              L          0                0  \n",
            "14             VH          1                1  \n",
            "15              M          0                0  \n",
            "16             VL          0                0  \n",
            "17              H          1                0  \n",
            "18              L          0                0  \n",
            "19             VH          1                0  \n",
            "20              M          0                1  \n",
            "21              H          1                0  \n",
            "22             VL          0                1  \n",
            "23              L          0                0  \n",
            "24             VH          1                1  \n",
            "25              M          0                0  \n",
            "26             VL          0                0  \n",
            "27              H          1                0  \n",
            "28              L          0                0  \n",
            "29             VH          1                0  \n"
          ]
        }
      ]
    },
    {
      "cell_type": "markdown",
      "source": [
        "# **Encoding Categorical data (Text to Numbers)**"
      ],
      "metadata": {
        "id": "WWvOO6XefE5s"
      }
    },
    {
      "cell_type": "code",
      "source": [
        "le_dict = {}\n",
        "categorical_columns = ['product_type', 'origin_country', 'destination_country', 'value_category']\n",
        "\n",
        "for col in categorical_columns:\n",
        "    le_dict[col] = LabelEncoder()\n",
        "    df[f'{col}_encoded'] = le_dict[col].fit_transform(df[col])\n",
        "print(df.iloc[:,4:])"
      ],
      "metadata": {
        "collapsed": true,
        "colab": {
          "base_uri": "https://localhost:8080/"
        },
        "id": "6Tq-w4IrjJSE",
        "outputId": "94cd5a39-60ef-47cb-fc5a-532e3c8ef464"
      },
      "execution_count": null,
      "outputs": [
        {
          "output_type": "stream",
          "name": "stdout",
          "text": [
            "    risk_level value_category  high_risk  high_risk_route  \\\n",
            "0            1              M          0                1   \n",
            "1            2              H          1                0   \n",
            "2            1             VL          0                1   \n",
            "3            0              L          0                0   \n",
            "4            2             VH          1                1   \n",
            "5            1              M          0                0   \n",
            "6            0             VL          0                0   \n",
            "7            2              H          1                0   \n",
            "8            1              L          0                0   \n",
            "9            2             VH          1                0   \n",
            "10           1              M          0                1   \n",
            "11           2              H          1                0   \n",
            "12           1             VL          0                1   \n",
            "13           0              L          0                0   \n",
            "14           2             VH          1                1   \n",
            "15           1              M          0                0   \n",
            "16           0             VL          0                0   \n",
            "17           2              H          1                0   \n",
            "18           1              L          0                0   \n",
            "19           2             VH          1                0   \n",
            "20           1              M          0                1   \n",
            "21           2              H          1                0   \n",
            "22           1             VL          0                1   \n",
            "23           0              L          0                0   \n",
            "24           2             VH          1                1   \n",
            "25           1              M          0                0   \n",
            "26           0             VL          0                0   \n",
            "27           2              H          1                0   \n",
            "28           1              L          0                0   \n",
            "29           2             VH          1                0   \n",
            "\n",
            "    product_type_encoded  origin_country_encoded  destination_country_encoded  \\\n",
            "0                      1                       0                            4   \n",
            "1                      1                       5                            0   \n",
            "2                      1                       0                            1   \n",
            "3                      1                       1                            4   \n",
            "4                      1                       0                            1   \n",
            "5                      1                       5                            4   \n",
            "6                      1                       2                            4   \n",
            "7                      1                       6                            0   \n",
            "8                      1                       3                            2   \n",
            "9                      1                       4                            3   \n",
            "10                     0                       0                            4   \n",
            "11                     0                       5                            0   \n",
            "12                     0                       0                            1   \n",
            "13                     0                       1                            4   \n",
            "14                     0                       0                            1   \n",
            "15                     0                       5                            4   \n",
            "16                     0                       2                            4   \n",
            "17                     0                       6                            0   \n",
            "18                     0                       3                            2   \n",
            "19                     0                       4                            3   \n",
            "20                     2                       0                            4   \n",
            "21                     2                       5                            0   \n",
            "22                     2                       0                            1   \n",
            "23                     2                       1                            4   \n",
            "24                     2                       0                            1   \n",
            "25                     2                       5                            4   \n",
            "26                     2                       2                            4   \n",
            "27                     2                       6                            0   \n",
            "28                     2                       3                            2   \n",
            "29                     2                       4                            3   \n",
            "\n",
            "    value_category_encoded  \n",
            "0                        2  \n",
            "1                        0  \n",
            "2                        4  \n",
            "3                        1  \n",
            "4                        3  \n",
            "5                        2  \n",
            "6                        4  \n",
            "7                        0  \n",
            "8                        1  \n",
            "9                        3  \n",
            "10                       2  \n",
            "11                       0  \n",
            "12                       4  \n",
            "13                       1  \n",
            "14                       3  \n",
            "15                       2  \n",
            "16                       4  \n",
            "17                       0  \n",
            "18                       1  \n",
            "19                       3  \n",
            "20                       2  \n",
            "21                       0  \n",
            "22                       4  \n",
            "23                       1  \n",
            "24                       3  \n",
            "25                       2  \n",
            "26                       4  \n",
            "27                       0  \n",
            "28                       1  \n",
            "29                       3  \n"
          ]
        }
      ]
    },
    {
      "cell_type": "markdown",
      "source": [
        "# **Preparing Data For ML**\n",
        "\n",
        "1.   separating features and target\n",
        "2.   Features : product,country,value,risk,value\n",
        "     \n",
        "     Target : risk level\n",
        "\n"
      ],
      "metadata": {
        "id": "6jAdy5PpjrhD"
      }
    },
    {
      "cell_type": "code",
      "source": [
        "feature_columns = [\n",
        "    'origin_risk_score', 'destination_risk_score', 'product_risk_score',\n",
        "    'is_large_shipment', 'is_high_value', 'high_risk_high_value'\n",
        "] + list(df.filter(like=\"product_type_\")) + list(df.filter(like=\"origin_country_\")) + list(df.filter(like=\"destination_country_\"))\n",
        "\n",
        "X = df[feature_columns]  # Updated feature set\n",
        "y = df['risk_level']  # Target variable\n"
      ],
      "metadata": {
        "id": "kznP3NeDjw5D"
      },
      "execution_count": null,
      "outputs": []
    },
    {
      "cell_type": "markdown",
      "source": [
        "# **Training the Machine Learning Model**\n",
        "***Creates a model pipeline with:***\n",
        "\n",
        "1.StandardScaler() → Ensures numeric values are on the same scale.\n",
        "\n",
        "2.RandomForestClassifier() → A decision-tree-based model that predicts risk levels\n",
        "\n",
        "\n",
        "\n",
        "> **//XGBClassifier is used since it can be faster with large datasets**\n",
        "\n",
        "![image.png](data:image/png;base64,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)\n",
        "\n"
      ],
      "metadata": {
        "id": "nYlhlm0ikjMp"
      }
    },
    {
      "cell_type": "code",
      "source": [
        "from xgboost import XGBClassifier\n",
        "\n",
        "pipeline = Pipeline([\n",
        "    ('scaler', StandardScaler()),\n",
        "    ('classifier', XGBClassifier(\n",
        "        n_estimators=300,    # Number of trees\n",
        "        learning_rate=0.05,  # How fast the model learns\n",
        "        max_depth=10,        # Maximum depth of each tree\n",
        "        subsample=0.8,       # Uses 80% of data per tree (prevents overfitting)\n",
        "        colsample_bytree=0.8,# Uses 80% of features per tree\n",
        "        random_state=42\n",
        "    ))\n",
        "])\n",
        "print(pipeline)"
      ],
      "metadata": {
        "colab": {
          "base_uri": "https://localhost:8080/"
        },
        "id": "7vQBft8okwiv",
        "outputId": "36205c15-29ed-4a6d-bb47-a5b027ebaaf6"
      },
      "execution_count": null,
      "outputs": [
        {
          "output_type": "stream",
          "name": "stdout",
          "text": [
            "Pipeline(steps=[('scaler', StandardScaler()),\n",
            "                ('classifier',\n",
            "                 XGBClassifier(base_score=None, booster=None, callbacks=None,\n",
            "                               colsample_bylevel=None, colsample_bynode=None,\n",
            "                               colsample_bytree=0.8, device=None,\n",
            "                               early_stopping_rounds=None,\n",
            "                               enable_categorical=False, eval_metric=None,\n",
            "                               feature_types=None, gamma=None, grow_policy=None,\n",
            "                               importance_type=None,\n",
            "                               interaction_constraints=None, learning_rate=0.05,\n",
            "                               max_bin=None, max_cat_threshold=None,\n",
            "                               max_cat_to_onehot=None, max_delta_step=None,\n",
            "                               max_depth=10, max_leaves=None,\n",
            "                               min_child_weight=None, missing=nan,\n",
            "                               monotone_constraints=None, multi_strategy=None,\n",
            "                               n_estimators=300, n_jobs=None,\n",
            "                               num_parallel_tree=None, random_state=42, ...))])\n"
          ]
        }
      ]
    },
    {
      "cell_type": "markdown",
      "source": [
        "# **Hyperparameter Tuning (Optimizing the Model)**\n",
        "\n",
        "1.Tests multiple ML settings to find the best combination.\n",
        "\n",
        "2.RandomizedSearchCV() : automatically finds the most accurate model."
      ],
      "metadata": {
        "id": "jZfuSsXulEf5"
      }
    },
    {
      "cell_type": "code",
      "source": [
        "from sklearn.model_selection import RandomizedSearchCV\n",
        "param_grid = {\n",
        "    'classifier__n_estimators': [100, 300, 500],\n",
        "    'classifier__learning_rate': [0.01, 0.05, 0.1],\n",
        "    'classifier__max_depth': [5, 10, 15],\n",
        "    'classifier__subsample': [0.7, 0.8, 0.9],\n",
        "    'classifier__colsample_bytree': [0.7, 0.8, 0.9]\n",
        "}\n",
        "\n",
        "\n",
        "xgb = XGBClassifier()\n",
        "random_search = RandomizedSearchCV(xgb, param_grid, n_iter=20, cv=5, n_jobs=-1)\n",
        "random_search.fit(X, y)\n",
        "best_model = random_search.best_estimator_\n"
      ],
      "metadata": {
        "id": "OMUgd17ylRZJ"
      },
      "execution_count": null,
      "outputs": []
    },
    {
      "cell_type": "markdown",
      "source": [
        "# **Symbolic Rule-Based System (Manual Rules for Risk Detection)**"
      ],
      "metadata": {
        "id": "c9muZAAbxJWJ"
      }
    },
    {
      "cell_type": "code",
      "source": [
        "def check_compliance(row):\n",
        "    risk_score = 0\n",
        "\n",
        "    # Product type rules\n",
        "    if row['product_type'] == 'electronics':\n",
        "        if row['value'] > 700:\n",
        "            risk_score += 3\n",
        "        elif row['value'] > 500:\n",
        "            risk_score += 2\n",
        "\n",
        "    # Country risk rules\n",
        "    high_risk_countries = ['China']\n",
        "    medium_risk_countries = ['Vietnam', 'India', 'Korea']\n",
        "\n",
        "    if row['origin_country'] in high_risk_countries:\n",
        "        risk_score += 2\n",
        "    elif row['origin_country'] in medium_risk_countries:\n",
        "        risk_score += 1\n",
        "\n",
        "    # Value-based rules\n",
        "    if row['value'] > 800:\n",
        "        risk_score += 3\n",
        "    elif row['value'] > 600:\n",
        "        risk_score += 2\n",
        "\n",
        "    # Route-based rules\n",
        "    if row['high_risk_route'] == 1:\n",
        "        risk_score += 2\n",
        "\n",
        "    # Final classification\n",
        "    return 2 if risk_score >= 5 else (1 if risk_score >= 3 else 0)\n",
        "\n",
        "df['symbolic_risk'] = df.apply(check_compliance, axis=1)\n"
      ],
      "metadata": {
        "id": "dhWNgYQHxQ9I"
      },
      "execution_count": null,
      "outputs": []
    },
    {
      "cell_type": "markdown",
      "source": [
        "# **Combining ML & Rule-Based Predictions**"
      ],
      "metadata": {
        "id": "LmPXICoWxSqo"
      }
    },
    {
      "cell_type": "code",
      "source": [
        "def combined_risk_assessment(row, model=best_model):\n",
        "    features = np.array([[row[col] for col in feature_columns]])\n",
        "    ml_prediction = model.predict(features)[0]  # Get XGBoost prediction\n",
        "    symbolic_prediction = check_compliance(row)  # Rule-based prediction\n",
        "\n",
        "    # Weighted combination: XGBoost is preferred if confidence is high\n",
        "    ml_confidence = max(model.predict_proba(features)[0])\n",
        "\n",
        "    if ml_confidence > 0.8:\n",
        "        final_risk = ml_prediction\n",
        "    elif ml_confidence > 0.5:\n",
        "        final_risk = int(0.7 * ml_prediction + 0.3 * symbolic_prediction)\n",
        "    else:\n",
        "        final_risk = symbolic_prediction\n",
        "\n",
        "    return final_risk\n",
        "\n",
        "df['combined_risk'] = df.apply(combined_risk_assessment, axis=1)\n"
      ],
      "metadata": {
        "id": "ZirIFkT_xWYw"
      },
      "execution_count": null,
      "outputs": []
    },
    {
      "cell_type": "markdown",
      "source": [
        "# **Evaluating the Model’s Accuracy**"
      ],
      "metadata": {
        "id": "j5t0O3jcxbU5"
      }
    },
    {
      "cell_type": "code",
      "source": [
        "final_accuracy = accuracy_score(df['risk_level'], df['combined_risk'])\n",
        "print(f\"\\nFinal Combined Model Accuracy: {final_accuracy:.2f}\")"
      ],
      "metadata": {
        "colab": {
          "base_uri": "https://localhost:8080/"
        },
        "id": "KTvTd9Oexd9w",
        "outputId": "385a967f-b503-476d-a6ff-c31167b18784"
      },
      "execution_count": null,
      "outputs": [
        {
          "output_type": "stream",
          "name": "stdout",
          "text": [
            "\n",
            "Final Combined Model Accuracy: 1.00\n"
          ]
        }
      ]
    },
    {
      "cell_type": "code",
      "source": [],
      "metadata": {
        "id": "tm9id1C2yPxy"
      },
      "execution_count": null,
      "outputs": []
    }
  ],
  "metadata": {
    "colab": {
      "provenance": [],
      "include_colab_link": true
    },
    "kernelspec": {
      "display_name": "Python 3",
      "name": "python3"
    }
  },
  "nbformat": 4,
  "nbformat_minor": 0
}
